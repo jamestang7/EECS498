{
 "cells": [
  {
   "cell_type": "code",
   "execution_count": 22,
   "metadata": {},
   "outputs": [],
   "source": [
    "# import library\n",
    "import numpy as np\n",
    "import pandas as pd\n",
    "import matplotlib.pyplot as plt \n",
    "import plotly\n",
    "import sklearn\n",
    "import re\n",
    "import random\n",
    "import math\n"
   ]
  },
  {
   "cell_type": "code",
   "execution_count": 77,
   "metadata": {},
   "outputs": [],
   "source": [
    "# Separate data into training and validation\n",
    "total_num=pd.date_range(start='1/1/2018',\n",
    "                        end='12/31/2018',\n",
    "                        freq='D')\n",
    "# Set seed in order to attain reproducibility\n",
    "length=len(total_num)\n",
    "random.seed(498)\n",
    "total_num=pd.Series(total_num)\n",
    "lst=[]\n",
    "for date in total_num:\n",
    "    date=str(date).split()[0]\n",
    "    date=date.replace('-','_')\n",
    "    lst.append(date)\n",
    "total_num=pd.Series(lst)\n",
    "\n",
    "# Choice the training date\n",
    "training_num=random.sample(list(np.arange(0,365)),math.floor(length*5/6),)\n",
    "remaining_len=length-len(training_num)\n",
    "validation_num=total_num.drop(index=training_num)"
   ]
  },
  {
   "cell_type": "code",
   "execution_count": 78,
   "metadata": {},
   "outputs": [
    {
     "name": "stdout",
     "output_type": "stream",
     "text": [
      "[246, 212, 312, 126, 127, 189, 195, 7, 306, 364, 304, 134, 349, 65, 325, 313, 278, 230, 231, 243, 351, 184, 282, 80, 54, 158, 207, 279, 280, 342, 203, 114, 121, 321, 335, 156, 34, 129, 104, 336, 160, 181, 263, 186, 174, 201, 154, 39, 215, 61, 247, 209, 208, 3, 49, 122, 317, 256, 74, 131, 31, 363, 144, 13, 25, 197, 167, 350, 185, 251, 143, 262, 109, 152, 314, 332, 89, 259, 327, 21, 165, 345, 205, 116, 242, 223, 6, 149, 63, 338, 331, 120, 101, 229, 95, 47, 241, 136, 347, 4, 339, 281, 38, 360, 254, 257, 148, 255, 307, 17, 124, 44, 202, 26, 297, 219, 35, 190, 88, 291, 348, 236, 132, 337, 199, 178, 354, 123, 110, 179, 237, 77, 118, 20, 214, 22, 78, 42, 76, 272, 277, 84, 5, 16, 187, 298, 355, 283, 28, 15, 169, 113, 159, 58, 92, 140, 33, 361, 43, 261, 340, 296, 326, 222, 191, 323, 264, 19, 292, 194, 103, 173, 108, 170, 139, 353, 105, 193, 86, 258, 226, 192, 268, 27, 318, 93, 227, 238, 112, 50, 198, 40, 244, 36, 253, 87, 9, 206, 221, 176, 188, 248, 111, 250, 228, 252, 218, 269, 142, 11, 295, 72, 293, 267, 305, 271, 69, 309, 56, 96, 73, 324, 319, 224, 45, 204, 53, 175, 57, 273, 115, 161, 82, 288, 275, 180, 14, 274, 146, 70, 172, 322, 29, 315, 59, 217, 8, 358, 171, 71, 356, 245, 128, 301, 37, 249, 232, 10, 90, 102, 182, 85, 141, 333, 233, 289, 285, 157, 234, 32, 302, 67, 220, 107, 23, 210, 125, 133, 12, 299, 164, 24, 200, 30, 83, 213, 60, 162, 147, 106, 48, 300, 62, 18, 310, 98, 137, 235, 344, 265, 320, 138, 311, 130]\n"
     ]
    }
   ],
   "source": [
    "print(training_num)"
   ]
  },
  {
   "cell_type": "code",
   "execution_count": 79,
   "metadata": {},
   "outputs": [
    {
     "name": "stdout",
     "output_type": "stream",
     "text": [
      "0      2018_01_01\n",
      "1      2018_01_02\n",
      "2      2018_01_03\n",
      "41     2018_02_11\n",
      "46     2018_02_16\n",
      "          ...    \n",
      "346    2018_12_13\n",
      "352    2018_12_19\n",
      "357    2018_12_24\n",
      "359    2018_12_26\n",
      "362    2018_12_29\n",
      "Length: 61, dtype: object\n"
     ]
    }
   ],
   "source": [
    "print(validation_num)"
   ]
  },
  {
   "cell_type": "code",
   "execution_count": 60,
   "metadata": {},
   "outputs": [],
   "source": [
    "# Read data\n",
    "file='./AIS_2019_01_01.csv'\n",
    "df=pd.read_csv(file)"
   ]
  },
  {
   "cell_type": "code",
   "execution_count": 81,
   "metadata": {},
   "outputs": [],
   "source": [
    "# Delete VesselType NA value\n",
    "df.head()\n",
    "df=df[df['VesselType'].isna()==False]"
   ]
  },
  {
   "cell_type": "code",
   "execution_count": 83,
   "metadata": {},
   "outputs": [
    {
     "data": {
      "text/html": [
       "<div>\n",
       "<style scoped>\n",
       "    .dataframe tbody tr th:only-of-type {\n",
       "        vertical-align: middle;\n",
       "    }\n",
       "\n",
       "    .dataframe tbody tr th {\n",
       "        vertical-align: top;\n",
       "    }\n",
       "\n",
       "    .dataframe thead th {\n",
       "        text-align: right;\n",
       "    }\n",
       "</style>\n",
       "<table border=\"1\" class=\"dataframe\">\n",
       "  <thead>\n",
       "    <tr style=\"text-align: right;\">\n",
       "      <th></th>\n",
       "      <th>MMSI</th>\n",
       "      <th>LAT</th>\n",
       "      <th>LON</th>\n",
       "      <th>SOG</th>\n",
       "      <th>COG</th>\n",
       "      <th>Heading</th>\n",
       "      <th>VesselType</th>\n",
       "      <th>Status</th>\n",
       "      <th>Length</th>\n",
       "      <th>Width</th>\n",
       "      <th>Draft</th>\n",
       "      <th>Cargo</th>\n",
       "    </tr>\n",
       "  </thead>\n",
       "  <tbody>\n",
       "    <tr>\n",
       "      <th>count</th>\n",
       "      <td>7.039789e+06</td>\n",
       "      <td>7.039789e+06</td>\n",
       "      <td>7.039789e+06</td>\n",
       "      <td>7.039789e+06</td>\n",
       "      <td>7.039789e+06</td>\n",
       "      <td>7.039789e+06</td>\n",
       "      <td>7.039789e+06</td>\n",
       "      <td>5.634791e+06</td>\n",
       "      <td>6.525718e+06</td>\n",
       "      <td>5.488049e+06</td>\n",
       "      <td>1.949847e+06</td>\n",
       "      <td>2.530337e+06</td>\n",
       "    </tr>\n",
       "    <tr>\n",
       "      <th>mean</th>\n",
       "      <td>3.672707e+08</td>\n",
       "      <td>3.525674e+01</td>\n",
       "      <td>-9.586362e+01</td>\n",
       "      <td>1.823239e+00</td>\n",
       "      <td>-2.550855e+01</td>\n",
       "      <td>3.691049e+02</td>\n",
       "      <td>4.376085e+01</td>\n",
       "      <td>3.975022e+00</td>\n",
       "      <td>5.007536e+01</td>\n",
       "      <td>1.160537e+01</td>\n",
       "      <td>6.521161e+00</td>\n",
       "      <td>4.752748e+01</td>\n",
       "    </tr>\n",
       "    <tr>\n",
       "      <th>std</th>\n",
       "      <td>5.362156e+07</td>\n",
       "      <td>8.248943e+00</td>\n",
       "      <td>2.005094e+01</td>\n",
       "      <td>3.907017e+00</td>\n",
       "      <td>1.223710e+02</td>\n",
       "      <td>1.784671e+02</td>\n",
       "      <td>2.000086e+01</td>\n",
       "      <td>5.750609e+00</td>\n",
       "      <td>6.591141e+01</td>\n",
       "      <td>9.417119e+00</td>\n",
       "      <td>4.349750e+00</td>\n",
       "      <td>2.246778e+01</td>\n",
       "    </tr>\n",
       "    <tr>\n",
       "      <th>min</th>\n",
       "      <td>0.000000e+00</td>\n",
       "      <td>6.667000e-02</td>\n",
       "      <td>-1.769794e+02</td>\n",
       "      <td>-5.110000e+01</td>\n",
       "      <td>-2.048000e+02</td>\n",
       "      <td>0.000000e+00</td>\n",
       "      <td>0.000000e+00</td>\n",
       "      <td>0.000000e+00</td>\n",
       "      <td>0.000000e+00</td>\n",
       "      <td>0.000000e+00</td>\n",
       "      <td>-1.250000e+01</td>\n",
       "      <td>0.000000e+00</td>\n",
       "    </tr>\n",
       "    <tr>\n",
       "      <th>25%</th>\n",
       "      <td>3.669418e+08</td>\n",
       "      <td>2.962486e+01</td>\n",
       "      <td>-9.706897e+01</td>\n",
       "      <td>0.000000e+00</td>\n",
       "      <td>-1.318000e+02</td>\n",
       "      <td>2.150000e+02</td>\n",
       "      <td>3.100000e+01</td>\n",
       "      <td>0.000000e+00</td>\n",
       "      <td>1.800000e+01</td>\n",
       "      <td>7.000000e+00</td>\n",
       "      <td>3.400000e+00</td>\n",
       "      <td>3.100000e+01</td>\n",
       "    </tr>\n",
       "    <tr>\n",
       "      <th>50%</th>\n",
       "      <td>3.673522e+08</td>\n",
       "      <td>3.251481e+01</td>\n",
       "      <td>-9.027533e+01</td>\n",
       "      <td>0.000000e+00</td>\n",
       "      <td>-4.960000e+01</td>\n",
       "      <td>5.110000e+02</td>\n",
       "      <td>3.100000e+01</td>\n",
       "      <td>0.000000e+00</td>\n",
       "      <td>2.500000e+01</td>\n",
       "      <td>9.000000e+00</td>\n",
       "      <td>4.700000e+00</td>\n",
       "      <td>5.200000e+01</td>\n",
       "    </tr>\n",
       "    <tr>\n",
       "      <th>75%</th>\n",
       "      <td>3.676476e+08</td>\n",
       "      <td>4.053016e+01</td>\n",
       "      <td>-8.151780e+01</td>\n",
       "      <td>6.000000e-01</td>\n",
       "      <td>8.100000e+01</td>\n",
       "      <td>5.110000e+02</td>\n",
       "      <td>6.000000e+01</td>\n",
       "      <td>5.000000e+00</td>\n",
       "      <td>4.100000e+01</td>\n",
       "      <td>1.200000e+01</td>\n",
       "      <td>9.800000e+00</td>\n",
       "      <td>6.000000e+01</td>\n",
       "    </tr>\n",
       "    <tr>\n",
       "      <th>max</th>\n",
       "      <td>1.000000e+09</td>\n",
       "      <td>7.049377e+01</td>\n",
       "      <td>-6.087994e+01</td>\n",
       "      <td>5.080000e+01</td>\n",
       "      <td>2.047000e+02</td>\n",
       "      <td>5.110000e+02</td>\n",
       "      <td>1.700000e+02</td>\n",
       "      <td>1.500000e+01</td>\n",
       "      <td>3.970000e+02</td>\n",
       "      <td>1.260000e+02</td>\n",
       "      <td>2.410000e+01</td>\n",
       "      <td>1.700000e+02</td>\n",
       "    </tr>\n",
       "  </tbody>\n",
       "</table>\n",
       "</div>"
      ],
      "text/plain": [
       "               MMSI           LAT           LON           SOG           COG  \\\n",
       "count  7.039789e+06  7.039789e+06  7.039789e+06  7.039789e+06  7.039789e+06   \n",
       "mean   3.672707e+08  3.525674e+01 -9.586362e+01  1.823239e+00 -2.550855e+01   \n",
       "std    5.362156e+07  8.248943e+00  2.005094e+01  3.907017e+00  1.223710e+02   \n",
       "min    0.000000e+00  6.667000e-02 -1.769794e+02 -5.110000e+01 -2.048000e+02   \n",
       "25%    3.669418e+08  2.962486e+01 -9.706897e+01  0.000000e+00 -1.318000e+02   \n",
       "50%    3.673522e+08  3.251481e+01 -9.027533e+01  0.000000e+00 -4.960000e+01   \n",
       "75%    3.676476e+08  4.053016e+01 -8.151780e+01  6.000000e-01  8.100000e+01   \n",
       "max    1.000000e+09  7.049377e+01 -6.087994e+01  5.080000e+01  2.047000e+02   \n",
       "\n",
       "            Heading    VesselType        Status        Length         Width  \\\n",
       "count  7.039789e+06  7.039789e+06  5.634791e+06  6.525718e+06  5.488049e+06   \n",
       "mean   3.691049e+02  4.376085e+01  3.975022e+00  5.007536e+01  1.160537e+01   \n",
       "std    1.784671e+02  2.000086e+01  5.750609e+00  6.591141e+01  9.417119e+00   \n",
       "min    0.000000e+00  0.000000e+00  0.000000e+00  0.000000e+00  0.000000e+00   \n",
       "25%    2.150000e+02  3.100000e+01  0.000000e+00  1.800000e+01  7.000000e+00   \n",
       "50%    5.110000e+02  3.100000e+01  0.000000e+00  2.500000e+01  9.000000e+00   \n",
       "75%    5.110000e+02  6.000000e+01  5.000000e+00  4.100000e+01  1.200000e+01   \n",
       "max    5.110000e+02  1.700000e+02  1.500000e+01  3.970000e+02  1.260000e+02   \n",
       "\n",
       "              Draft         Cargo  \n",
       "count  1.949847e+06  2.530337e+06  \n",
       "mean   6.521161e+00  4.752748e+01  \n",
       "std    4.349750e+00  2.246778e+01  \n",
       "min   -1.250000e+01  0.000000e+00  \n",
       "25%    3.400000e+00  3.100000e+01  \n",
       "50%    4.700000e+00  5.200000e+01  \n",
       "75%    9.800000e+00  6.000000e+01  \n",
       "max    2.410000e+01  1.700000e+02  "
      ]
     },
     "execution_count": 83,
     "metadata": {},
     "output_type": "execute_result"
    }
   ],
   "source": [
    "df.head()\n",
    "df.describe()"
   ]
  },
  {
   "cell_type": "code",
   "execution_count": 159,
   "metadata": {},
   "outputs": [
    {
     "data": {
      "text/html": [
       "<div>\n",
       "<style scoped>\n",
       "    .dataframe tbody tr th:only-of-type {\n",
       "        vertical-align: middle;\n",
       "    }\n",
       "\n",
       "    .dataframe tbody tr th {\n",
       "        vertical-align: top;\n",
       "    }\n",
       "\n",
       "    .dataframe thead th {\n",
       "        text-align: right;\n",
       "    }\n",
       "</style>\n",
       "<table border=\"1\" class=\"dataframe\">\n",
       "  <thead>\n",
       "    <tr style=\"text-align: right;\">\n",
       "      <th></th>\n",
       "      <th>MMSI</th>\n",
       "      <th>BaseDateTime</th>\n",
       "      <th>LAT</th>\n",
       "      <th>LON</th>\n",
       "      <th>SOG</th>\n",
       "      <th>COG</th>\n",
       "      <th>Heading</th>\n",
       "      <th>VesselName</th>\n",
       "      <th>IMO</th>\n",
       "      <th>CallSign</th>\n",
       "      <th>VesselType</th>\n",
       "      <th>Status</th>\n",
       "      <th>Length</th>\n",
       "      <th>Width</th>\n",
       "      <th>Draft</th>\n",
       "      <th>Cargo</th>\n",
       "      <th>TranscieverClass</th>\n",
       "    </tr>\n",
       "  </thead>\n",
       "  <tbody>\n",
       "    <tr>\n",
       "      <th>16</th>\n",
       "      <td>368066040</td>\n",
       "      <td>2019-01-01T00:00:05</td>\n",
       "      <td>30.33668</td>\n",
       "      <td>-88.29042</td>\n",
       "      <td>6.6</td>\n",
       "      <td>201.1</td>\n",
       "      <td>202.0</td>\n",
       "      <td>BOSSMAN</td>\n",
       "      <td>IMO0000000</td>\n",
       "      <td>WDK5560</td>\n",
       "      <td>30.0</td>\n",
       "      <td>NaN</td>\n",
       "      <td>30.0</td>\n",
       "      <td>9.0</td>\n",
       "      <td>NaN</td>\n",
       "      <td>NaN</td>\n",
       "      <td>B</td>\n",
       "    </tr>\n",
       "    <tr>\n",
       "      <th>24</th>\n",
       "      <td>367138430</td>\n",
       "      <td>2019-01-01T00:00:06</td>\n",
       "      <td>38.95835</td>\n",
       "      <td>-74.86710</td>\n",
       "      <td>0.0</td>\n",
       "      <td>-140.1</td>\n",
       "      <td>511.0</td>\n",
       "      <td>AMY MARIE</td>\n",
       "      <td>IMO7932111</td>\n",
       "      <td>WUS2556</td>\n",
       "      <td>30.0</td>\n",
       "      <td>7.0</td>\n",
       "      <td>27.0</td>\n",
       "      <td>7.0</td>\n",
       "      <td>NaN</td>\n",
       "      <td>30.0</td>\n",
       "      <td>B</td>\n",
       "    </tr>\n",
       "    <tr>\n",
       "      <th>56</th>\n",
       "      <td>367776890</td>\n",
       "      <td>2019-01-01T00:00:04</td>\n",
       "      <td>29.41973</td>\n",
       "      <td>-84.90810</td>\n",
       "      <td>2.9</td>\n",
       "      <td>-191.2</td>\n",
       "      <td>511.0</td>\n",
       "      <td>LONI LYNN</td>\n",
       "      <td>NaN</td>\n",
       "      <td>WDJ4354</td>\n",
       "      <td>30.0</td>\n",
       "      <td>NaN</td>\n",
       "      <td>19.0</td>\n",
       "      <td>NaN</td>\n",
       "      <td>NaN</td>\n",
       "      <td>NaN</td>\n",
       "      <td>B</td>\n",
       "    </tr>\n",
       "    <tr>\n",
       "      <th>75</th>\n",
       "      <td>366896490</td>\n",
       "      <td>2019-01-01T00:00:05</td>\n",
       "      <td>47.65940</td>\n",
       "      <td>-122.38152</td>\n",
       "      <td>0.0</td>\n",
       "      <td>187.4</td>\n",
       "      <td>511.0</td>\n",
       "      <td>AMERICAN LADY</td>\n",
       "      <td>IMO7513006</td>\n",
       "      <td>WDB4259</td>\n",
       "      <td>30.0</td>\n",
       "      <td>0.0</td>\n",
       "      <td>27.0</td>\n",
       "      <td>8.0</td>\n",
       "      <td>NaN</td>\n",
       "      <td>NaN</td>\n",
       "      <td>B</td>\n",
       "    </tr>\n",
       "    <tr>\n",
       "      <th>112</th>\n",
       "      <td>367046940</td>\n",
       "      <td>2019-01-01T00:00:06</td>\n",
       "      <td>47.65615</td>\n",
       "      <td>-122.36628</td>\n",
       "      <td>0.0</td>\n",
       "      <td>154.0</td>\n",
       "      <td>125.0</td>\n",
       "      <td>GLADIATOR</td>\n",
       "      <td>IMO7938115</td>\n",
       "      <td>WCZ9000</td>\n",
       "      <td>30.0</td>\n",
       "      <td>0.0</td>\n",
       "      <td>33.0</td>\n",
       "      <td>9.0</td>\n",
       "      <td>NaN</td>\n",
       "      <td>0.0</td>\n",
       "      <td>B</td>\n",
       "    </tr>\n",
       "  </tbody>\n",
       "</table>\n",
       "</div>"
      ],
      "text/plain": [
       "          MMSI         BaseDateTime       LAT        LON  SOG    COG  Heading  \\\n",
       "16   368066040  2019-01-01T00:00:05  30.33668  -88.29042  6.6  201.1    202.0   \n",
       "24   367138430  2019-01-01T00:00:06  38.95835  -74.86710  0.0 -140.1    511.0   \n",
       "56   367776890  2019-01-01T00:00:04  29.41973  -84.90810  2.9 -191.2    511.0   \n",
       "75   366896490  2019-01-01T00:00:05  47.65940 -122.38152  0.0  187.4    511.0   \n",
       "112  367046940  2019-01-01T00:00:06  47.65615 -122.36628  0.0  154.0    125.0   \n",
       "\n",
       "        VesselName         IMO CallSign  VesselType  Status  Length  Width  \\\n",
       "16         BOSSMAN  IMO0000000  WDK5560        30.0     NaN    30.0    9.0   \n",
       "24       AMY MARIE  IMO7932111  WUS2556        30.0     7.0    27.0    7.0   \n",
       "56       LONI LYNN         NaN  WDJ4354        30.0     NaN    19.0    NaN   \n",
       "75   AMERICAN LADY  IMO7513006  WDB4259        30.0     0.0    27.0    8.0   \n",
       "112      GLADIATOR  IMO7938115  WCZ9000        30.0     0.0    33.0    9.0   \n",
       "\n",
       "     Draft  Cargo TranscieverClass  \n",
       "16     NaN    NaN                B  \n",
       "24     NaN   30.0                B  \n",
       "56     NaN    NaN                B  \n",
       "75     NaN    NaN                B  \n",
       "112    NaN    0.0                B  "
      ]
     },
     "execution_count": 159,
     "metadata": {},
     "output_type": "execute_result"
    }
   ],
   "source": [
    "# Group by VesselType \n",
    "vessel_list=list(df['VesselType'].unique())\n",
    "MMSI_list=pd.Series(df['MMSI'].unique())\n",
    "VesselType=30\n",
    "df1=df[df['VesselType']==VesselType]\n",
    "df1.head()"
   ]
  },
  {
   "cell_type": "code",
   "execution_count": 91,
   "metadata": {},
   "outputs": [
    {
     "data": {
      "text/plain": [
       "0    368066040\n",
       "1    367138430\n",
       "2    367776890\n",
       "3    366896490\n",
       "4    367046940\n",
       "dtype: int64"
      ]
     },
     "execution_count": 91,
     "metadata": {},
     "output_type": "execute_result"
    }
   ],
   "source": [
    "MMSI_list=pd.Series(df1['MMSI'].unique())\n",
    "MMSI_list.head()"
   ]
  },
  {
   "cell_type": "code",
   "execution_count": 160,
   "metadata": {},
   "outputs": [
    {
     "data": {
      "text/html": [
       "<div>\n",
       "<style scoped>\n",
       "    .dataframe tbody tr th:only-of-type {\n",
       "        vertical-align: middle;\n",
       "    }\n",
       "\n",
       "    .dataframe tbody tr th {\n",
       "        vertical-align: top;\n",
       "    }\n",
       "\n",
       "    .dataframe thead th {\n",
       "        text-align: right;\n",
       "    }\n",
       "</style>\n",
       "<table border=\"1\" class=\"dataframe\">\n",
       "  <thead>\n",
       "    <tr style=\"text-align: right;\">\n",
       "      <th></th>\n",
       "      <th>MMSI</th>\n",
       "      <th>BaseDateTime</th>\n",
       "      <th>LAT</th>\n",
       "      <th>LON</th>\n",
       "      <th>SOG</th>\n",
       "      <th>COG</th>\n",
       "      <th>Heading</th>\n",
       "      <th>VesselName</th>\n",
       "      <th>IMO</th>\n",
       "      <th>CallSign</th>\n",
       "      <th>VesselType</th>\n",
       "      <th>Status</th>\n",
       "      <th>Length</th>\n",
       "      <th>Width</th>\n",
       "      <th>Draft</th>\n",
       "      <th>Cargo</th>\n",
       "      <th>TranscieverClass</th>\n",
       "    </tr>\n",
       "  </thead>\n",
       "  <tbody>\n",
       "    <tr>\n",
       "      <th>16</th>\n",
       "      <td>368066040</td>\n",
       "      <td>2019-01-01T00:00:05</td>\n",
       "      <td>30.33668</td>\n",
       "      <td>-88.29042</td>\n",
       "      <td>6.6</td>\n",
       "      <td>201.1</td>\n",
       "      <td>202.0</td>\n",
       "      <td>BOSSMAN</td>\n",
       "      <td>IMO0000000</td>\n",
       "      <td>WDK5560</td>\n",
       "      <td>30.0</td>\n",
       "      <td>NaN</td>\n",
       "      <td>30.0</td>\n",
       "      <td>9.0</td>\n",
       "      <td>NaN</td>\n",
       "      <td>NaN</td>\n",
       "      <td>B</td>\n",
       "    </tr>\n",
       "    <tr>\n",
       "      <th>10261</th>\n",
       "      <td>368066040</td>\n",
       "      <td>2019-01-01T00:01:35</td>\n",
       "      <td>30.33413</td>\n",
       "      <td>-88.29156</td>\n",
       "      <td>6.7</td>\n",
       "      <td>201.4</td>\n",
       "      <td>203.0</td>\n",
       "      <td>BOSSMAN</td>\n",
       "      <td>IMO0000000</td>\n",
       "      <td>WDK5560</td>\n",
       "      <td>30.0</td>\n",
       "      <td>NaN</td>\n",
       "      <td>30.0</td>\n",
       "      <td>9.0</td>\n",
       "      <td>NaN</td>\n",
       "      <td>NaN</td>\n",
       "      <td>B</td>\n",
       "    </tr>\n",
       "    <tr>\n",
       "      <th>17861</th>\n",
       "      <td>368066040</td>\n",
       "      <td>2019-01-01T00:03:04</td>\n",
       "      <td>30.33155</td>\n",
       "      <td>-88.29278</td>\n",
       "      <td>6.6</td>\n",
       "      <td>203.9</td>\n",
       "      <td>205.0</td>\n",
       "      <td>BOSSMAN</td>\n",
       "      <td>IMO0000000</td>\n",
       "      <td>WDK5560</td>\n",
       "      <td>30.0</td>\n",
       "      <td>NaN</td>\n",
       "      <td>30.0</td>\n",
       "      <td>9.0</td>\n",
       "      <td>NaN</td>\n",
       "      <td>NaN</td>\n",
       "      <td>B</td>\n",
       "    </tr>\n",
       "    <tr>\n",
       "      <th>28808</th>\n",
       "      <td>368066040</td>\n",
       "      <td>2019-01-01T00:05:05</td>\n",
       "      <td>30.32804</td>\n",
       "      <td>-88.29416</td>\n",
       "      <td>6.6</td>\n",
       "      <td>197.9</td>\n",
       "      <td>198.0</td>\n",
       "      <td>BOSSMAN</td>\n",
       "      <td>IMO0000000</td>\n",
       "      <td>WDK5560</td>\n",
       "      <td>30.0</td>\n",
       "      <td>NaN</td>\n",
       "      <td>30.0</td>\n",
       "      <td>9.0</td>\n",
       "      <td>NaN</td>\n",
       "      <td>NaN</td>\n",
       "      <td>B</td>\n",
       "    </tr>\n",
       "    <tr>\n",
       "      <th>39174</th>\n",
       "      <td>368066040</td>\n",
       "      <td>2019-01-01T00:06:34</td>\n",
       "      <td>30.32549</td>\n",
       "      <td>-88.29514</td>\n",
       "      <td>5.9</td>\n",
       "      <td>200.5</td>\n",
       "      <td>203.0</td>\n",
       "      <td>BOSSMAN</td>\n",
       "      <td>IMO0000000</td>\n",
       "      <td>WDK5560</td>\n",
       "      <td>30.0</td>\n",
       "      <td>NaN</td>\n",
       "      <td>30.0</td>\n",
       "      <td>9.0</td>\n",
       "      <td>NaN</td>\n",
       "      <td>NaN</td>\n",
       "      <td>B</td>\n",
       "    </tr>\n",
       "    <tr>\n",
       "      <th>...</th>\n",
       "      <td>...</td>\n",
       "      <td>...</td>\n",
       "      <td>...</td>\n",
       "      <td>...</td>\n",
       "      <td>...</td>\n",
       "      <td>...</td>\n",
       "      <td>...</td>\n",
       "      <td>...</td>\n",
       "      <td>...</td>\n",
       "      <td>...</td>\n",
       "      <td>...</td>\n",
       "      <td>...</td>\n",
       "      <td>...</td>\n",
       "      <td>...</td>\n",
       "      <td>...</td>\n",
       "      <td>...</td>\n",
       "      <td>...</td>\n",
       "    </tr>\n",
       "    <tr>\n",
       "      <th>4632518</th>\n",
       "      <td>368066040</td>\n",
       "      <td>2019-01-01T15:16:24</td>\n",
       "      <td>29.44726</td>\n",
       "      <td>-88.50353</td>\n",
       "      <td>3.3</td>\n",
       "      <td>-163.2</td>\n",
       "      <td>253.0</td>\n",
       "      <td>BOSSMAN</td>\n",
       "      <td>IMO0000000</td>\n",
       "      <td>WDK5560</td>\n",
       "      <td>30.0</td>\n",
       "      <td>NaN</td>\n",
       "      <td>30.0</td>\n",
       "      <td>9.0</td>\n",
       "      <td>NaN</td>\n",
       "      <td>NaN</td>\n",
       "      <td>B</td>\n",
       "    </tr>\n",
       "    <tr>\n",
       "      <th>4701028</th>\n",
       "      <td>368066040</td>\n",
       "      <td>2019-01-01T15:28:55</td>\n",
       "      <td>29.44257</td>\n",
       "      <td>-88.51486</td>\n",
       "      <td>3.2</td>\n",
       "      <td>-169.1</td>\n",
       "      <td>245.0</td>\n",
       "      <td>BOSSMAN</td>\n",
       "      <td>IMO0000000</td>\n",
       "      <td>WDK5560</td>\n",
       "      <td>30.0</td>\n",
       "      <td>NaN</td>\n",
       "      <td>30.0</td>\n",
       "      <td>9.0</td>\n",
       "      <td>NaN</td>\n",
       "      <td>NaN</td>\n",
       "      <td>B</td>\n",
       "    </tr>\n",
       "    <tr>\n",
       "      <th>4882957</th>\n",
       "      <td>368066040</td>\n",
       "      <td>2019-01-01T16:02:24</td>\n",
       "      <td>29.41620</td>\n",
       "      <td>-88.52515</td>\n",
       "      <td>3.5</td>\n",
       "      <td>148.4</td>\n",
       "      <td>148.0</td>\n",
       "      <td>BOSSMAN</td>\n",
       "      <td>IMO0000000</td>\n",
       "      <td>WDK5560</td>\n",
       "      <td>30.0</td>\n",
       "      <td>NaN</td>\n",
       "      <td>30.0</td>\n",
       "      <td>9.0</td>\n",
       "      <td>NaN</td>\n",
       "      <td>NaN</td>\n",
       "      <td>B</td>\n",
       "    </tr>\n",
       "    <tr>\n",
       "      <th>4887321</th>\n",
       "      <td>368066040</td>\n",
       "      <td>2019-01-01T16:00:53</td>\n",
       "      <td>29.41742</td>\n",
       "      <td>-88.52550</td>\n",
       "      <td>3.1</td>\n",
       "      <td>170.3</td>\n",
       "      <td>164.0</td>\n",
       "      <td>BOSSMAN</td>\n",
       "      <td>IMO0000000</td>\n",
       "      <td>WDK5560</td>\n",
       "      <td>30.0</td>\n",
       "      <td>NaN</td>\n",
       "      <td>30.0</td>\n",
       "      <td>9.0</td>\n",
       "      <td>NaN</td>\n",
       "      <td>NaN</td>\n",
       "      <td>B</td>\n",
       "    </tr>\n",
       "    <tr>\n",
       "      <th>5262270</th>\n",
       "      <td>368066040</td>\n",
       "      <td>2019-01-01T17:11:23</td>\n",
       "      <td>29.43853</td>\n",
       "      <td>-88.47557</td>\n",
       "      <td>4.1</td>\n",
       "      <td>161.6</td>\n",
       "      <td>155.0</td>\n",
       "      <td>BOSSMAN</td>\n",
       "      <td>IMO0000000</td>\n",
       "      <td>WDK5560</td>\n",
       "      <td>30.0</td>\n",
       "      <td>NaN</td>\n",
       "      <td>30.0</td>\n",
       "      <td>9.0</td>\n",
       "      <td>NaN</td>\n",
       "      <td>NaN</td>\n",
       "      <td>B</td>\n",
       "    </tr>\n",
       "  </tbody>\n",
       "</table>\n",
       "<p>128 rows × 17 columns</p>\n",
       "</div>"
      ],
      "text/plain": [
       "              MMSI         BaseDateTime       LAT       LON  SOG    COG  \\\n",
       "16       368066040  2019-01-01T00:00:05  30.33668 -88.29042  6.6  201.1   \n",
       "10261    368066040  2019-01-01T00:01:35  30.33413 -88.29156  6.7  201.4   \n",
       "17861    368066040  2019-01-01T00:03:04  30.33155 -88.29278  6.6  203.9   \n",
       "28808    368066040  2019-01-01T00:05:05  30.32804 -88.29416  6.6  197.9   \n",
       "39174    368066040  2019-01-01T00:06:34  30.32549 -88.29514  5.9  200.5   \n",
       "...            ...                  ...       ...       ...  ...    ...   \n",
       "4632518  368066040  2019-01-01T15:16:24  29.44726 -88.50353  3.3 -163.2   \n",
       "4701028  368066040  2019-01-01T15:28:55  29.44257 -88.51486  3.2 -169.1   \n",
       "4882957  368066040  2019-01-01T16:02:24  29.41620 -88.52515  3.5  148.4   \n",
       "4887321  368066040  2019-01-01T16:00:53  29.41742 -88.52550  3.1  170.3   \n",
       "5262270  368066040  2019-01-01T17:11:23  29.43853 -88.47557  4.1  161.6   \n",
       "\n",
       "         Heading VesselName         IMO CallSign  VesselType  Status  Length  \\\n",
       "16         202.0    BOSSMAN  IMO0000000  WDK5560        30.0     NaN    30.0   \n",
       "10261      203.0    BOSSMAN  IMO0000000  WDK5560        30.0     NaN    30.0   \n",
       "17861      205.0    BOSSMAN  IMO0000000  WDK5560        30.0     NaN    30.0   \n",
       "28808      198.0    BOSSMAN  IMO0000000  WDK5560        30.0     NaN    30.0   \n",
       "39174      203.0    BOSSMAN  IMO0000000  WDK5560        30.0     NaN    30.0   \n",
       "...          ...        ...         ...      ...         ...     ...     ...   \n",
       "4632518    253.0    BOSSMAN  IMO0000000  WDK5560        30.0     NaN    30.0   \n",
       "4701028    245.0    BOSSMAN  IMO0000000  WDK5560        30.0     NaN    30.0   \n",
       "4882957    148.0    BOSSMAN  IMO0000000  WDK5560        30.0     NaN    30.0   \n",
       "4887321    164.0    BOSSMAN  IMO0000000  WDK5560        30.0     NaN    30.0   \n",
       "5262270    155.0    BOSSMAN  IMO0000000  WDK5560        30.0     NaN    30.0   \n",
       "\n",
       "         Width  Draft  Cargo TranscieverClass  \n",
       "16         9.0    NaN    NaN                B  \n",
       "10261      9.0    NaN    NaN                B  \n",
       "17861      9.0    NaN    NaN                B  \n",
       "28808      9.0    NaN    NaN                B  \n",
       "39174      9.0    NaN    NaN                B  \n",
       "...        ...    ...    ...              ...  \n",
       "4632518    9.0    NaN    NaN                B  \n",
       "4701028    9.0    NaN    NaN                B  \n",
       "4882957    9.0    NaN    NaN                B  \n",
       "4887321    9.0    NaN    NaN                B  \n",
       "5262270    9.0    NaN    NaN                B  \n",
       "\n",
       "[128 rows x 17 columns]"
      ]
     },
     "execution_count": 160,
     "metadata": {},
     "output_type": "execute_result"
    }
   ],
   "source": [
    "MMSI=368066040\n",
    "df1=df1.loc[df1['MMSI']==MMSI]\n",
    "df1.head(1000)\n"
   ]
  },
  {
   "cell_type": "code",
   "execution_count": 161,
   "metadata": {},
   "outputs": [],
   "source": [
    "# define function to reset the initial Time to zero,Lat=0,Lon=zero\n",
    "import datetime\n",
    "from datetime import datetime, timedelta \n",
    "def recode_time(df):\n",
    "    fmt='%Y-%m-%dT%H:%M:%S'\n",
    "    time_lst=df['BaseDateTime']\n",
    "    lst=[]\n",
    "    t0=time_lst.iloc[0]\n",
    "    t0=datetime.strptime(t0,fmt)\n",
    "    for time in time_lst:\n",
    "        t1=datetime.strptime(time,fmt)\n",
    "        t_diff=t1-t0\n",
    "        t_diff=round(t_diff.total_seconds()/60,3)\n",
    "        lst.append(t_diff)\n",
    "    df['BaseDateTime']=lst\n",
    "    origin_lat=df1['LAT'].iloc[0]\n",
    "    origin_log=df1['LON'].iloc[0]\n",
    "    Lat=df['LAT']-origin_lat\n",
    "    Lon=df['LON']-origin_log\n",
    "    df['LAT']=Lat\n",
    "    df['LON']=Lon\n",
    "    return df"
   ]
  },
  {
   "cell_type": "code",
   "execution_count": 162,
   "metadata": {},
   "outputs": [],
   "source": [
    "df_recode=recode_time(df1)"
   ]
  },
  {
   "cell_type": "code",
   "execution_count": 164,
   "metadata": {},
   "outputs": [
    {
     "data": {
      "text/html": [
       "<div>\n",
       "<style scoped>\n",
       "    .dataframe tbody tr th:only-of-type {\n",
       "        vertical-align: middle;\n",
       "    }\n",
       "\n",
       "    .dataframe tbody tr th {\n",
       "        vertical-align: top;\n",
       "    }\n",
       "\n",
       "    .dataframe thead th {\n",
       "        text-align: right;\n",
       "    }\n",
       "</style>\n",
       "<table border=\"1\" class=\"dataframe\">\n",
       "  <thead>\n",
       "    <tr style=\"text-align: right;\">\n",
       "      <th></th>\n",
       "      <th>MMSI</th>\n",
       "      <th>BaseDateTime</th>\n",
       "      <th>LAT</th>\n",
       "      <th>LON</th>\n",
       "      <th>SOG</th>\n",
       "      <th>COG</th>\n",
       "      <th>Heading</th>\n",
       "      <th>VesselType</th>\n",
       "      <th>Status</th>\n",
       "      <th>Length</th>\n",
       "      <th>Width</th>\n",
       "      <th>Draft</th>\n",
       "      <th>Cargo</th>\n",
       "    </tr>\n",
       "  </thead>\n",
       "  <tbody>\n",
       "    <tr>\n",
       "      <th>count</th>\n",
       "      <td>128.0</td>\n",
       "      <td>128.000000</td>\n",
       "      <td>128.000000</td>\n",
       "      <td>128.000000</td>\n",
       "      <td>128.000000</td>\n",
       "      <td>128.000000</td>\n",
       "      <td>128.000000</td>\n",
       "      <td>128.0</td>\n",
       "      <td>0.0</td>\n",
       "      <td>128.0</td>\n",
       "      <td>128.0</td>\n",
       "      <td>0.0</td>\n",
       "      <td>0.0</td>\n",
       "    </tr>\n",
       "    <tr>\n",
       "      <th>mean</th>\n",
       "      <td>368066040.0</td>\n",
       "      <td>164.197586</td>\n",
       "      <td>-0.200121</td>\n",
       "      <td>-0.167626</td>\n",
       "      <td>8.090625</td>\n",
       "      <td>-3.281250</td>\n",
       "      <td>205.656250</td>\n",
       "      <td>30.0</td>\n",
       "      <td>NaN</td>\n",
       "      <td>30.0</td>\n",
       "      <td>9.0</td>\n",
       "      <td>NaN</td>\n",
       "      <td>NaN</td>\n",
       "    </tr>\n",
       "    <tr>\n",
       "      <th>std</th>\n",
       "      <td>0.0</td>\n",
       "      <td>200.036044</td>\n",
       "      <td>0.208197</td>\n",
       "      <td>0.088719</td>\n",
       "      <td>2.216489</td>\n",
       "      <td>175.142592</td>\n",
       "      <td>38.463489</td>\n",
       "      <td>0.0</td>\n",
       "      <td>NaN</td>\n",
       "      <td>0.0</td>\n",
       "      <td>0.0</td>\n",
       "      <td>NaN</td>\n",
       "      <td>NaN</td>\n",
       "    </tr>\n",
       "    <tr>\n",
       "      <th>min</th>\n",
       "      <td>368066040.0</td>\n",
       "      <td>0.000000</td>\n",
       "      <td>-0.920480</td>\n",
       "      <td>-0.255100</td>\n",
       "      <td>0.400000</td>\n",
       "      <td>-204.000000</td>\n",
       "      <td>22.000000</td>\n",
       "      <td>30.0</td>\n",
       "      <td>NaN</td>\n",
       "      <td>30.0</td>\n",
       "      <td>9.0</td>\n",
       "      <td>NaN</td>\n",
       "      <td>NaN</td>\n",
       "    </tr>\n",
       "    <tr>\n",
       "      <th>25%</th>\n",
       "      <td>368066040.0</td>\n",
       "      <td>66.042000</td>\n",
       "      <td>-0.279635</td>\n",
       "      <td>-0.241353</td>\n",
       "      <td>8.250000</td>\n",
       "      <td>-170.625000</td>\n",
       "      <td>174.000000</td>\n",
       "      <td>30.0</td>\n",
       "      <td>NaN</td>\n",
       "      <td>30.0</td>\n",
       "      <td>9.0</td>\n",
       "      <td>NaN</td>\n",
       "      <td>NaN</td>\n",
       "    </tr>\n",
       "    <tr>\n",
       "      <th>50%</th>\n",
       "      <td>368066040.0</td>\n",
       "      <td>125.700000</td>\n",
       "      <td>-0.135885</td>\n",
       "      <td>-0.218060</td>\n",
       "      <td>9.050000</td>\n",
       "      <td>-118.800000</td>\n",
       "      <td>207.000000</td>\n",
       "      <td>30.0</td>\n",
       "      <td>NaN</td>\n",
       "      <td>30.0</td>\n",
       "      <td>9.0</td>\n",
       "      <td>NaN</td>\n",
       "      <td>NaN</td>\n",
       "    </tr>\n",
       "    <tr>\n",
       "      <th>75%</th>\n",
       "      <td>368066040.0</td>\n",
       "      <td>185.167000</td>\n",
       "      <td>-0.057720</td>\n",
       "      <td>-0.086970</td>\n",
       "      <td>9.425000</td>\n",
       "      <td>173.300000</td>\n",
       "      <td>238.000000</td>\n",
       "      <td>30.0</td>\n",
       "      <td>NaN</td>\n",
       "      <td>30.0</td>\n",
       "      <td>9.0</td>\n",
       "      <td>NaN</td>\n",
       "      <td>NaN</td>\n",
       "    </tr>\n",
       "    <tr>\n",
       "      <th>max</th>\n",
       "      <td>368066040.0</td>\n",
       "      <td>1031.300000</td>\n",
       "      <td>0.000000</td>\n",
       "      <td>0.000000</td>\n",
       "      <td>10.100000</td>\n",
       "      <td>204.000000</td>\n",
       "      <td>310.000000</td>\n",
       "      <td>30.0</td>\n",
       "      <td>NaN</td>\n",
       "      <td>30.0</td>\n",
       "      <td>9.0</td>\n",
       "      <td>NaN</td>\n",
       "      <td>NaN</td>\n",
       "    </tr>\n",
       "  </tbody>\n",
       "</table>\n",
       "</div>"
      ],
      "text/plain": [
       "              MMSI  BaseDateTime         LAT         LON         SOG  \\\n",
       "count        128.0    128.000000  128.000000  128.000000  128.000000   \n",
       "mean   368066040.0    164.197586   -0.200121   -0.167626    8.090625   \n",
       "std            0.0    200.036044    0.208197    0.088719    2.216489   \n",
       "min    368066040.0      0.000000   -0.920480   -0.255100    0.400000   \n",
       "25%    368066040.0     66.042000   -0.279635   -0.241353    8.250000   \n",
       "50%    368066040.0    125.700000   -0.135885   -0.218060    9.050000   \n",
       "75%    368066040.0    185.167000   -0.057720   -0.086970    9.425000   \n",
       "max    368066040.0   1031.300000    0.000000    0.000000   10.100000   \n",
       "\n",
       "              COG     Heading  VesselType  Status  Length  Width  Draft  Cargo  \n",
       "count  128.000000  128.000000       128.0     0.0   128.0  128.0    0.0    0.0  \n",
       "mean    -3.281250  205.656250        30.0     NaN    30.0    9.0    NaN    NaN  \n",
       "std    175.142592   38.463489         0.0     NaN     0.0    0.0    NaN    NaN  \n",
       "min   -204.000000   22.000000        30.0     NaN    30.0    9.0    NaN    NaN  \n",
       "25%   -170.625000  174.000000        30.0     NaN    30.0    9.0    NaN    NaN  \n",
       "50%   -118.800000  207.000000        30.0     NaN    30.0    9.0    NaN    NaN  \n",
       "75%    173.300000  238.000000        30.0     NaN    30.0    9.0    NaN    NaN  \n",
       "max    204.000000  310.000000        30.0     NaN    30.0    9.0    NaN    NaN  "
      ]
     },
     "execution_count": 164,
     "metadata": {},
     "output_type": "execute_result"
    }
   ],
   "source": [
    "df_recode.head()\n",
    "df_recode.describe()"
   ]
  },
  {
   "cell_type": "code",
   "execution_count": 195,
   "metadata": {},
   "outputs": [
    {
     "data": {
      "application/vnd.jupyter.widget-view+json": {
       "model_id": "b20845965b4c4c04a830ae7d400c7bba",
       "version_major": 2,
       "version_minor": 0
      },
      "text/plain": [
       "FigureWidget({\n",
       "    'data': [{'line': {'color': 'darkblue', 'width': 2},\n",
       "              'marker': {'color': arra…"
      ]
     },
     "metadata": {},
     "output_type": "display_data"
    }
   ],
   "source": [
    "# Plot the 3D route of this vessel\n",
    "import plotly.graph_objects as go\n",
    "layout = go.Layout(\n",
    "    title = 'Vessel Route',\n",
    "    yaxis = dict(title = 'Longitude'),\n",
    "    xaxis = dict(title = 'Latitude'))\n",
    "\n",
    "fig=go.FigureWidget(data=go.Scatter3d(\n",
    "    x=df_recode['LAT'],\n",
    "    y=df_recode['LON'],\n",
    "    z=df_recode['BaseDateTime'],\n",
    "    marker=dict(size=4,\n",
    "                color=df_recode['BaseDateTime'],\n",
    "                colorscale='Viridis'),\n",
    "    line=dict(color='darkblue',\n",
    "              width=2\n",
    "             ),\n",
    "),\n",
    "              layout=layout)\n",
    "fig.update_layout(\n",
    "    width=800,\n",
    "    height=700,\n",
    "    autosize=False,\n",
    "    scene=dict(\n",
    "        camera=dict(\n",
    "            up=dict(\n",
    "                x=0,\n",
    "                y=0,\n",
    "                z=0\n",
    "            ),\n",
    "            eye=dict(\n",
    "                x=0,\n",
    "                y=1,\n",
    "                z=1,\n",
    "            )\n",
    "        ),\n",
    "        aspectratio = dict( x=1, y=1, z=0.7 ),\n",
    "        aspectmode = 'manual'\n",
    "    ),\n",
    ")\n",
    "fig"
   ]
  },
  {
   "cell_type": "code",
   "execution_count": 191,
   "metadata": {},
   "outputs": [
    {
     "data": {
      "application/vnd.plotly.v1+json": {
       "config": {
        "plotlyServerURL": "https://plot.ly"
       },
       "data": [
        {
         "type": "bar",
         "y": [
          2,
          3,
          1
         ]
        }
       ],
       "layout": {
        "template": {
         "data": {
          "bar": [
           {
            "error_x": {
             "color": "#2a3f5f"
            },
            "error_y": {
             "color": "#2a3f5f"
            },
            "marker": {
             "line": {
              "color": "#E5ECF6",
              "width": 0.5
             }
            },
            "type": "bar"
           }
          ],
          "barpolar": [
           {
            "marker": {
             "line": {
              "color": "#E5ECF6",
              "width": 0.5
             }
            },
            "type": "barpolar"
           }
          ],
          "carpet": [
           {
            "aaxis": {
             "endlinecolor": "#2a3f5f",
             "gridcolor": "white",
             "linecolor": "white",
             "minorgridcolor": "white",
             "startlinecolor": "#2a3f5f"
            },
            "baxis": {
             "endlinecolor": "#2a3f5f",
             "gridcolor": "white",
             "linecolor": "white",
             "minorgridcolor": "white",
             "startlinecolor": "#2a3f5f"
            },
            "type": "carpet"
           }
          ],
          "choropleth": [
           {
            "colorbar": {
             "outlinewidth": 0,
             "ticks": ""
            },
            "type": "choropleth"
           }
          ],
          "contour": [
           {
            "colorbar": {
             "outlinewidth": 0,
             "ticks": ""
            },
            "colorscale": [
             [
              0,
              "#0d0887"
             ],
             [
              0.1111111111111111,
              "#46039f"
             ],
             [
              0.2222222222222222,
              "#7201a8"
             ],
             [
              0.3333333333333333,
              "#9c179e"
             ],
             [
              0.4444444444444444,
              "#bd3786"
             ],
             [
              0.5555555555555556,
              "#d8576b"
             ],
             [
              0.6666666666666666,
              "#ed7953"
             ],
             [
              0.7777777777777778,
              "#fb9f3a"
             ],
             [
              0.8888888888888888,
              "#fdca26"
             ],
             [
              1,
              "#f0f921"
             ]
            ],
            "type": "contour"
           }
          ],
          "contourcarpet": [
           {
            "colorbar": {
             "outlinewidth": 0,
             "ticks": ""
            },
            "type": "contourcarpet"
           }
          ],
          "heatmap": [
           {
            "colorbar": {
             "outlinewidth": 0,
             "ticks": ""
            },
            "colorscale": [
             [
              0,
              "#0d0887"
             ],
             [
              0.1111111111111111,
              "#46039f"
             ],
             [
              0.2222222222222222,
              "#7201a8"
             ],
             [
              0.3333333333333333,
              "#9c179e"
             ],
             [
              0.4444444444444444,
              "#bd3786"
             ],
             [
              0.5555555555555556,
              "#d8576b"
             ],
             [
              0.6666666666666666,
              "#ed7953"
             ],
             [
              0.7777777777777778,
              "#fb9f3a"
             ],
             [
              0.8888888888888888,
              "#fdca26"
             ],
             [
              1,
              "#f0f921"
             ]
            ],
            "type": "heatmap"
           }
          ],
          "heatmapgl": [
           {
            "colorbar": {
             "outlinewidth": 0,
             "ticks": ""
            },
            "colorscale": [
             [
              0,
              "#0d0887"
             ],
             [
              0.1111111111111111,
              "#46039f"
             ],
             [
              0.2222222222222222,
              "#7201a8"
             ],
             [
              0.3333333333333333,
              "#9c179e"
             ],
             [
              0.4444444444444444,
              "#bd3786"
             ],
             [
              0.5555555555555556,
              "#d8576b"
             ],
             [
              0.6666666666666666,
              "#ed7953"
             ],
             [
              0.7777777777777778,
              "#fb9f3a"
             ],
             [
              0.8888888888888888,
              "#fdca26"
             ],
             [
              1,
              "#f0f921"
             ]
            ],
            "type": "heatmapgl"
           }
          ],
          "histogram": [
           {
            "marker": {
             "colorbar": {
              "outlinewidth": 0,
              "ticks": ""
             }
            },
            "type": "histogram"
           }
          ],
          "histogram2d": [
           {
            "colorbar": {
             "outlinewidth": 0,
             "ticks": ""
            },
            "colorscale": [
             [
              0,
              "#0d0887"
             ],
             [
              0.1111111111111111,
              "#46039f"
             ],
             [
              0.2222222222222222,
              "#7201a8"
             ],
             [
              0.3333333333333333,
              "#9c179e"
             ],
             [
              0.4444444444444444,
              "#bd3786"
             ],
             [
              0.5555555555555556,
              "#d8576b"
             ],
             [
              0.6666666666666666,
              "#ed7953"
             ],
             [
              0.7777777777777778,
              "#fb9f3a"
             ],
             [
              0.8888888888888888,
              "#fdca26"
             ],
             [
              1,
              "#f0f921"
             ]
            ],
            "type": "histogram2d"
           }
          ],
          "histogram2dcontour": [
           {
            "colorbar": {
             "outlinewidth": 0,
             "ticks": ""
            },
            "colorscale": [
             [
              0,
              "#0d0887"
             ],
             [
              0.1111111111111111,
              "#46039f"
             ],
             [
              0.2222222222222222,
              "#7201a8"
             ],
             [
              0.3333333333333333,
              "#9c179e"
             ],
             [
              0.4444444444444444,
              "#bd3786"
             ],
             [
              0.5555555555555556,
              "#d8576b"
             ],
             [
              0.6666666666666666,
              "#ed7953"
             ],
             [
              0.7777777777777778,
              "#fb9f3a"
             ],
             [
              0.8888888888888888,
              "#fdca26"
             ],
             [
              1,
              "#f0f921"
             ]
            ],
            "type": "histogram2dcontour"
           }
          ],
          "mesh3d": [
           {
            "colorbar": {
             "outlinewidth": 0,
             "ticks": ""
            },
            "type": "mesh3d"
           }
          ],
          "parcoords": [
           {
            "line": {
             "colorbar": {
              "outlinewidth": 0,
              "ticks": ""
             }
            },
            "type": "parcoords"
           }
          ],
          "pie": [
           {
            "automargin": true,
            "type": "pie"
           }
          ],
          "scatter": [
           {
            "marker": {
             "colorbar": {
              "outlinewidth": 0,
              "ticks": ""
             }
            },
            "type": "scatter"
           }
          ],
          "scatter3d": [
           {
            "line": {
             "colorbar": {
              "outlinewidth": 0,
              "ticks": ""
             }
            },
            "marker": {
             "colorbar": {
              "outlinewidth": 0,
              "ticks": ""
             }
            },
            "type": "scatter3d"
           }
          ],
          "scattercarpet": [
           {
            "marker": {
             "colorbar": {
              "outlinewidth": 0,
              "ticks": ""
             }
            },
            "type": "scattercarpet"
           }
          ],
          "scattergeo": [
           {
            "marker": {
             "colorbar": {
              "outlinewidth": 0,
              "ticks": ""
             }
            },
            "type": "scattergeo"
           }
          ],
          "scattergl": [
           {
            "marker": {
             "colorbar": {
              "outlinewidth": 0,
              "ticks": ""
             }
            },
            "type": "scattergl"
           }
          ],
          "scattermapbox": [
           {
            "marker": {
             "colorbar": {
              "outlinewidth": 0,
              "ticks": ""
             }
            },
            "type": "scattermapbox"
           }
          ],
          "scatterpolar": [
           {
            "marker": {
             "colorbar": {
              "outlinewidth": 0,
              "ticks": ""
             }
            },
            "type": "scatterpolar"
           }
          ],
          "scatterpolargl": [
           {
            "marker": {
             "colorbar": {
              "outlinewidth": 0,
              "ticks": ""
             }
            },
            "type": "scatterpolargl"
           }
          ],
          "scatterternary": [
           {
            "marker": {
             "colorbar": {
              "outlinewidth": 0,
              "ticks": ""
             }
            },
            "type": "scatterternary"
           }
          ],
          "surface": [
           {
            "colorbar": {
             "outlinewidth": 0,
             "ticks": ""
            },
            "colorscale": [
             [
              0,
              "#0d0887"
             ],
             [
              0.1111111111111111,
              "#46039f"
             ],
             [
              0.2222222222222222,
              "#7201a8"
             ],
             [
              0.3333333333333333,
              "#9c179e"
             ],
             [
              0.4444444444444444,
              "#bd3786"
             ],
             [
              0.5555555555555556,
              "#d8576b"
             ],
             [
              0.6666666666666666,
              "#ed7953"
             ],
             [
              0.7777777777777778,
              "#fb9f3a"
             ],
             [
              0.8888888888888888,
              "#fdca26"
             ],
             [
              1,
              "#f0f921"
             ]
            ],
            "type": "surface"
           }
          ],
          "table": [
           {
            "cells": {
             "fill": {
              "color": "#EBF0F8"
             },
             "line": {
              "color": "white"
             }
            },
            "header": {
             "fill": {
              "color": "#C8D4E3"
             },
             "line": {
              "color": "white"
             }
            },
            "type": "table"
           }
          ]
         },
         "layout": {
          "annotationdefaults": {
           "arrowcolor": "#2a3f5f",
           "arrowhead": 0,
           "arrowwidth": 1
          },
          "coloraxis": {
           "colorbar": {
            "outlinewidth": 0,
            "ticks": ""
           }
          },
          "colorscale": {
           "diverging": [
            [
             0,
             "#8e0152"
            ],
            [
             0.1,
             "#c51b7d"
            ],
            [
             0.2,
             "#de77ae"
            ],
            [
             0.3,
             "#f1b6da"
            ],
            [
             0.4,
             "#fde0ef"
            ],
            [
             0.5,
             "#f7f7f7"
            ],
            [
             0.6,
             "#e6f5d0"
            ],
            [
             0.7,
             "#b8e186"
            ],
            [
             0.8,
             "#7fbc41"
            ],
            [
             0.9,
             "#4d9221"
            ],
            [
             1,
             "#276419"
            ]
           ],
           "sequential": [
            [
             0,
             "#0d0887"
            ],
            [
             0.1111111111111111,
             "#46039f"
            ],
            [
             0.2222222222222222,
             "#7201a8"
            ],
            [
             0.3333333333333333,
             "#9c179e"
            ],
            [
             0.4444444444444444,
             "#bd3786"
            ],
            [
             0.5555555555555556,
             "#d8576b"
            ],
            [
             0.6666666666666666,
             "#ed7953"
            ],
            [
             0.7777777777777778,
             "#fb9f3a"
            ],
            [
             0.8888888888888888,
             "#fdca26"
            ],
            [
             1,
             "#f0f921"
            ]
           ],
           "sequentialminus": [
            [
             0,
             "#0d0887"
            ],
            [
             0.1111111111111111,
             "#46039f"
            ],
            [
             0.2222222222222222,
             "#7201a8"
            ],
            [
             0.3333333333333333,
             "#9c179e"
            ],
            [
             0.4444444444444444,
             "#bd3786"
            ],
            [
             0.5555555555555556,
             "#d8576b"
            ],
            [
             0.6666666666666666,
             "#ed7953"
            ],
            [
             0.7777777777777778,
             "#fb9f3a"
            ],
            [
             0.8888888888888888,
             "#fdca26"
            ],
            [
             1,
             "#f0f921"
            ]
           ]
          },
          "colorway": [
           "#636efa",
           "#EF553B",
           "#00cc96",
           "#ab63fa",
           "#FFA15A",
           "#19d3f3",
           "#FF6692",
           "#B6E880",
           "#FF97FF",
           "#FECB52"
          ],
          "font": {
           "color": "#2a3f5f"
          },
          "geo": {
           "bgcolor": "white",
           "lakecolor": "white",
           "landcolor": "#E5ECF6",
           "showlakes": true,
           "showland": true,
           "subunitcolor": "white"
          },
          "hoverlabel": {
           "align": "left"
          },
          "hovermode": "closest",
          "mapbox": {
           "style": "light"
          },
          "paper_bgcolor": "white",
          "plot_bgcolor": "#E5ECF6",
          "polar": {
           "angularaxis": {
            "gridcolor": "white",
            "linecolor": "white",
            "ticks": ""
           },
           "bgcolor": "#E5ECF6",
           "radialaxis": {
            "gridcolor": "white",
            "linecolor": "white",
            "ticks": ""
           }
          },
          "scene": {
           "xaxis": {
            "backgroundcolor": "#E5ECF6",
            "gridcolor": "white",
            "gridwidth": 2,
            "linecolor": "white",
            "showbackground": true,
            "ticks": "",
            "zerolinecolor": "white"
           },
           "yaxis": {
            "backgroundcolor": "#E5ECF6",
            "gridcolor": "white",
            "gridwidth": 2,
            "linecolor": "white",
            "showbackground": true,
            "ticks": "",
            "zerolinecolor": "white"
           },
           "zaxis": {
            "backgroundcolor": "#E5ECF6",
            "gridcolor": "white",
            "gridwidth": 2,
            "linecolor": "white",
            "showbackground": true,
            "ticks": "",
            "zerolinecolor": "white"
           }
          },
          "shapedefaults": {
           "line": {
            "color": "#2a3f5f"
           }
          },
          "ternary": {
           "aaxis": {
            "gridcolor": "white",
            "linecolor": "white",
            "ticks": ""
           },
           "baxis": {
            "gridcolor": "white",
            "linecolor": "white",
            "ticks": ""
           },
           "bgcolor": "#E5ECF6",
           "caxis": {
            "gridcolor": "white",
            "linecolor": "white",
            "ticks": ""
           }
          },
          "title": {
           "x": 0.05
          },
          "xaxis": {
           "automargin": true,
           "gridcolor": "white",
           "linecolor": "white",
           "ticks": "",
           "title": {
            "standoff": 15
           },
           "zerolinecolor": "white",
           "zerolinewidth": 2
          },
          "yaxis": {
           "automargin": true,
           "gridcolor": "white",
           "linecolor": "white",
           "ticks": "",
           "title": {
            "standoff": 15
           },
           "zerolinecolor": "white",
           "zerolinewidth": 2
          }
         }
        }
       }
      },
      "text/html": [
       "<div>                            <div id=\"9bd014a4-8930-4d90-a41d-87259d353410\" class=\"plotly-graph-div\" style=\"height:525px; width:100%;\"></div>            <script type=\"text/javascript\">                require([\"plotly\"], function(Plotly) {                    window.PLOTLYENV=window.PLOTLYENV || {};                                    if (document.getElementById(\"9bd014a4-8930-4d90-a41d-87259d353410\")) {                    Plotly.newPlot(                        \"9bd014a4-8930-4d90-a41d-87259d353410\",                        [{\"type\": \"bar\", \"y\": [2, 3, 1]}],                        {\"template\": {\"data\": {\"bar\": [{\"error_x\": {\"color\": \"#2a3f5f\"}, \"error_y\": {\"color\": \"#2a3f5f\"}, \"marker\": {\"line\": {\"color\": \"#E5ECF6\", \"width\": 0.5}}, \"type\": \"bar\"}], \"barpolar\": [{\"marker\": {\"line\": {\"color\": \"#E5ECF6\", \"width\": 0.5}}, \"type\": \"barpolar\"}], \"carpet\": [{\"aaxis\": {\"endlinecolor\": \"#2a3f5f\", \"gridcolor\": \"white\", \"linecolor\": \"white\", \"minorgridcolor\": \"white\", \"startlinecolor\": \"#2a3f5f\"}, \"baxis\": {\"endlinecolor\": \"#2a3f5f\", \"gridcolor\": \"white\", \"linecolor\": \"white\", \"minorgridcolor\": \"white\", \"startlinecolor\": \"#2a3f5f\"}, \"type\": \"carpet\"}], \"choropleth\": [{\"colorbar\": {\"outlinewidth\": 0, \"ticks\": \"\"}, \"type\": \"choropleth\"}], \"contour\": [{\"colorbar\": {\"outlinewidth\": 0, \"ticks\": \"\"}, \"colorscale\": [[0.0, \"#0d0887\"], [0.1111111111111111, \"#46039f\"], [0.2222222222222222, \"#7201a8\"], [0.3333333333333333, \"#9c179e\"], [0.4444444444444444, \"#bd3786\"], [0.5555555555555556, \"#d8576b\"], [0.6666666666666666, \"#ed7953\"], [0.7777777777777778, \"#fb9f3a\"], [0.8888888888888888, \"#fdca26\"], [1.0, \"#f0f921\"]], \"type\": \"contour\"}], \"contourcarpet\": [{\"colorbar\": {\"outlinewidth\": 0, \"ticks\": \"\"}, \"type\": \"contourcarpet\"}], \"heatmap\": [{\"colorbar\": {\"outlinewidth\": 0, \"ticks\": \"\"}, \"colorscale\": [[0.0, \"#0d0887\"], [0.1111111111111111, \"#46039f\"], [0.2222222222222222, \"#7201a8\"], [0.3333333333333333, \"#9c179e\"], [0.4444444444444444, \"#bd3786\"], [0.5555555555555556, \"#d8576b\"], [0.6666666666666666, \"#ed7953\"], [0.7777777777777778, \"#fb9f3a\"], [0.8888888888888888, \"#fdca26\"], [1.0, \"#f0f921\"]], \"type\": \"heatmap\"}], \"heatmapgl\": [{\"colorbar\": {\"outlinewidth\": 0, \"ticks\": \"\"}, \"colorscale\": [[0.0, \"#0d0887\"], [0.1111111111111111, \"#46039f\"], [0.2222222222222222, \"#7201a8\"], [0.3333333333333333, \"#9c179e\"], [0.4444444444444444, \"#bd3786\"], [0.5555555555555556, \"#d8576b\"], [0.6666666666666666, \"#ed7953\"], [0.7777777777777778, \"#fb9f3a\"], [0.8888888888888888, \"#fdca26\"], [1.0, \"#f0f921\"]], \"type\": \"heatmapgl\"}], \"histogram\": [{\"marker\": {\"colorbar\": {\"outlinewidth\": 0, \"ticks\": \"\"}}, \"type\": \"histogram\"}], \"histogram2d\": [{\"colorbar\": {\"outlinewidth\": 0, \"ticks\": \"\"}, \"colorscale\": [[0.0, \"#0d0887\"], [0.1111111111111111, \"#46039f\"], [0.2222222222222222, \"#7201a8\"], [0.3333333333333333, \"#9c179e\"], [0.4444444444444444, \"#bd3786\"], [0.5555555555555556, \"#d8576b\"], [0.6666666666666666, \"#ed7953\"], [0.7777777777777778, \"#fb9f3a\"], [0.8888888888888888, \"#fdca26\"], [1.0, \"#f0f921\"]], \"type\": \"histogram2d\"}], \"histogram2dcontour\": [{\"colorbar\": {\"outlinewidth\": 0, \"ticks\": \"\"}, \"colorscale\": [[0.0, \"#0d0887\"], [0.1111111111111111, \"#46039f\"], [0.2222222222222222, \"#7201a8\"], [0.3333333333333333, \"#9c179e\"], [0.4444444444444444, \"#bd3786\"], [0.5555555555555556, \"#d8576b\"], [0.6666666666666666, \"#ed7953\"], [0.7777777777777778, \"#fb9f3a\"], [0.8888888888888888, \"#fdca26\"], [1.0, \"#f0f921\"]], \"type\": \"histogram2dcontour\"}], \"mesh3d\": [{\"colorbar\": {\"outlinewidth\": 0, \"ticks\": \"\"}, \"type\": \"mesh3d\"}], \"parcoords\": [{\"line\": {\"colorbar\": {\"outlinewidth\": 0, \"ticks\": \"\"}}, \"type\": \"parcoords\"}], \"pie\": [{\"automargin\": true, \"type\": \"pie\"}], \"scatter\": [{\"marker\": {\"colorbar\": {\"outlinewidth\": 0, \"ticks\": \"\"}}, \"type\": \"scatter\"}], \"scatter3d\": [{\"line\": {\"colorbar\": {\"outlinewidth\": 0, \"ticks\": \"\"}}, \"marker\": {\"colorbar\": {\"outlinewidth\": 0, \"ticks\": \"\"}}, \"type\": \"scatter3d\"}], \"scattercarpet\": [{\"marker\": {\"colorbar\": {\"outlinewidth\": 0, \"ticks\": \"\"}}, \"type\": \"scattercarpet\"}], \"scattergeo\": [{\"marker\": {\"colorbar\": {\"outlinewidth\": 0, \"ticks\": \"\"}}, \"type\": \"scattergeo\"}], \"scattergl\": [{\"marker\": {\"colorbar\": {\"outlinewidth\": 0, \"ticks\": \"\"}}, \"type\": \"scattergl\"}], \"scattermapbox\": [{\"marker\": {\"colorbar\": {\"outlinewidth\": 0, \"ticks\": \"\"}}, \"type\": \"scattermapbox\"}], \"scatterpolar\": [{\"marker\": {\"colorbar\": {\"outlinewidth\": 0, \"ticks\": \"\"}}, \"type\": \"scatterpolar\"}], \"scatterpolargl\": [{\"marker\": {\"colorbar\": {\"outlinewidth\": 0, \"ticks\": \"\"}}, \"type\": \"scatterpolargl\"}], \"scatterternary\": [{\"marker\": {\"colorbar\": {\"outlinewidth\": 0, \"ticks\": \"\"}}, \"type\": \"scatterternary\"}], \"surface\": [{\"colorbar\": {\"outlinewidth\": 0, \"ticks\": \"\"}, \"colorscale\": [[0.0, \"#0d0887\"], [0.1111111111111111, \"#46039f\"], [0.2222222222222222, \"#7201a8\"], [0.3333333333333333, \"#9c179e\"], [0.4444444444444444, \"#bd3786\"], [0.5555555555555556, \"#d8576b\"], [0.6666666666666666, \"#ed7953\"], [0.7777777777777778, \"#fb9f3a\"], [0.8888888888888888, \"#fdca26\"], [1.0, \"#f0f921\"]], \"type\": \"surface\"}], \"table\": [{\"cells\": {\"fill\": {\"color\": \"#EBF0F8\"}, \"line\": {\"color\": \"white\"}}, \"header\": {\"fill\": {\"color\": \"#C8D4E3\"}, \"line\": {\"color\": \"white\"}}, \"type\": \"table\"}]}, \"layout\": {\"annotationdefaults\": {\"arrowcolor\": \"#2a3f5f\", \"arrowhead\": 0, \"arrowwidth\": 1}, \"coloraxis\": {\"colorbar\": {\"outlinewidth\": 0, \"ticks\": \"\"}}, \"colorscale\": {\"diverging\": [[0, \"#8e0152\"], [0.1, \"#c51b7d\"], [0.2, \"#de77ae\"], [0.3, \"#f1b6da\"], [0.4, \"#fde0ef\"], [0.5, \"#f7f7f7\"], [0.6, \"#e6f5d0\"], [0.7, \"#b8e186\"], [0.8, \"#7fbc41\"], [0.9, \"#4d9221\"], [1, \"#276419\"]], \"sequential\": [[0.0, \"#0d0887\"], [0.1111111111111111, \"#46039f\"], [0.2222222222222222, \"#7201a8\"], [0.3333333333333333, \"#9c179e\"], [0.4444444444444444, \"#bd3786\"], [0.5555555555555556, \"#d8576b\"], [0.6666666666666666, \"#ed7953\"], [0.7777777777777778, \"#fb9f3a\"], [0.8888888888888888, \"#fdca26\"], [1.0, \"#f0f921\"]], \"sequentialminus\": [[0.0, \"#0d0887\"], [0.1111111111111111, \"#46039f\"], [0.2222222222222222, \"#7201a8\"], [0.3333333333333333, \"#9c179e\"], [0.4444444444444444, \"#bd3786\"], [0.5555555555555556, \"#d8576b\"], [0.6666666666666666, \"#ed7953\"], [0.7777777777777778, \"#fb9f3a\"], [0.8888888888888888, \"#fdca26\"], [1.0, \"#f0f921\"]]}, \"colorway\": [\"#636efa\", \"#EF553B\", \"#00cc96\", \"#ab63fa\", \"#FFA15A\", \"#19d3f3\", \"#FF6692\", \"#B6E880\", \"#FF97FF\", \"#FECB52\"], \"font\": {\"color\": \"#2a3f5f\"}, \"geo\": {\"bgcolor\": \"white\", \"lakecolor\": \"white\", \"landcolor\": \"#E5ECF6\", \"showlakes\": true, \"showland\": true, \"subunitcolor\": \"white\"}, \"hoverlabel\": {\"align\": \"left\"}, \"hovermode\": \"closest\", \"mapbox\": {\"style\": \"light\"}, \"paper_bgcolor\": \"white\", \"plot_bgcolor\": \"#E5ECF6\", \"polar\": {\"angularaxis\": {\"gridcolor\": \"white\", \"linecolor\": \"white\", \"ticks\": \"\"}, \"bgcolor\": \"#E5ECF6\", \"radialaxis\": {\"gridcolor\": \"white\", \"linecolor\": \"white\", \"ticks\": \"\"}}, \"scene\": {\"xaxis\": {\"backgroundcolor\": \"#E5ECF6\", \"gridcolor\": \"white\", \"gridwidth\": 2, \"linecolor\": \"white\", \"showbackground\": true, \"ticks\": \"\", \"zerolinecolor\": \"white\"}, \"yaxis\": {\"backgroundcolor\": \"#E5ECF6\", \"gridcolor\": \"white\", \"gridwidth\": 2, \"linecolor\": \"white\", \"showbackground\": true, \"ticks\": \"\", \"zerolinecolor\": \"white\"}, \"zaxis\": {\"backgroundcolor\": \"#E5ECF6\", \"gridcolor\": \"white\", \"gridwidth\": 2, \"linecolor\": \"white\", \"showbackground\": true, \"ticks\": \"\", \"zerolinecolor\": \"white\"}}, \"shapedefaults\": {\"line\": {\"color\": \"#2a3f5f\"}}, \"ternary\": {\"aaxis\": {\"gridcolor\": \"white\", \"linecolor\": \"white\", \"ticks\": \"\"}, \"baxis\": {\"gridcolor\": \"white\", \"linecolor\": \"white\", \"ticks\": \"\"}, \"bgcolor\": \"#E5ECF6\", \"caxis\": {\"gridcolor\": \"white\", \"linecolor\": \"white\", \"ticks\": \"\"}}, \"title\": {\"x\": 0.05}, \"xaxis\": {\"automargin\": true, \"gridcolor\": \"white\", \"linecolor\": \"white\", \"ticks\": \"\", \"title\": {\"standoff\": 15}, \"zerolinecolor\": \"white\", \"zerolinewidth\": 2}, \"yaxis\": {\"automargin\": true, \"gridcolor\": \"white\", \"linecolor\": \"white\", \"ticks\": \"\", \"title\": {\"standoff\": 15}, \"zerolinecolor\": \"white\", \"zerolinewidth\": 2}}}},                        {\"responsive\": true}                    ).then(function(){\n",
       "                            \n",
       "var gd = document.getElementById('9bd014a4-8930-4d90-a41d-87259d353410');\n",
       "var x = new MutationObserver(function (mutations, observer) {{\n",
       "        var display = window.getComputedStyle(gd).display;\n",
       "        if (!display || display === 'none') {{\n",
       "            console.log([gd, 'removed!']);\n",
       "            Plotly.purge(gd);\n",
       "            observer.disconnect();\n",
       "        }}\n",
       "}});\n",
       "\n",
       "// Listen for the removal of the full notebook cells\n",
       "var notebookContainer = gd.closest('#notebook-container');\n",
       "if (notebookContainer) {{\n",
       "    x.observe(notebookContainer, {childList: true});\n",
       "}}\n",
       "\n",
       "// Listen for the clearing of the current output cell\n",
       "var outputEl = gd.closest('.output');\n",
       "if (outputEl) {{\n",
       "    x.observe(outputEl, {childList: true});\n",
       "}}\n",
       "\n",
       "                        })                };                });            </script>        </div>"
      ]
     },
     "metadata": {},
     "output_type": "display_data"
    },
    {
     "data": {
      "application/vnd.jupyter.widget-view+json": {
       "model_id": "1ab16307d277407dbb7867dd1ac44ed3",
       "version_major": 2,
       "version_minor": 0
      },
      "text/plain": [
       "FigureWidget({\n",
       "    'data': [{'type': 'bar', 'uid': '9dfac039-981a-4657-9d2e-32501301fd20', 'y': [2, 3, 1]}],\n",
       " …"
      ]
     },
     "metadata": {},
     "output_type": "display_data"
    }
   ],
   "source": []
  },
  {
   "cell_type": "code",
   "execution_count": null,
   "metadata": {},
   "outputs": [],
   "source": []
  },
  {
   "cell_type": "code",
   "execution_count": null,
   "metadata": {},
   "outputs": [],
   "source": []
  }
 ],
 "metadata": {
  "kernelspec": {
   "display_name": "Python 3",
   "language": "python",
   "name": "python3"
  },
  "language_info": {
   "codemirror_mode": {
    "name": "ipython",
    "version": 3
   },
   "file_extension": ".py",
   "mimetype": "text/x-python",
   "name": "python",
   "nbconvert_exporter": "python",
   "pygments_lexer": "ipython3",
   "version": "3.8.3"
  }
 },
 "nbformat": 4,
 "nbformat_minor": 4
}
